{
 "cells": [
  {
   "cell_type": "code",
   "execution_count": 133,
   "id": "d85d151c",
   "metadata": {},
   "outputs": [],
   "source": [
    "#Importing necessary libraries \n",
    "import pandas as pd\n",
    "import matplotlib.pyplot as plt\n",
    "import numpy as np\n",
    "import seaborn as sns\n",
    "import math\n",
    "import warnings\n",
    "\n",
    "#Importing sklearn modules *    \n",
    "from sklearn.linear_model import LogisticRegression\n",
    "from sklearn.pipeline import Pipeline\n",
    "from sklearn.svm import LinearSVC\n",
    "from sklearn.model_selection import GridSearchCV\n",
    "from sklearn.metrics import classification_report\n",
    "from sklearn.metrics import accuracy_score\n",
    "from sklearn import metrics\n",
    "from sklearn.model_selection import cross_val_score\n",
    "from sklearn.metrics import plot_confusion_matrix\n",
    "from sklearn.model_selection import StratifiedShuffleSplit\n",
    "from sklearn.feature_extraction.text import CountVectorizer \n",
    "from sklearn.feature_extraction.text import TfidfTransformer\n",
    "from sklearn.naive_bayes import MultinomialNB\n",
    "from sklearn.pipeline import Pipeline"
   ]
  },
  {
   "cell_type": "code",
   "execution_count": 134,
   "id": "0cdd674b",
   "metadata": {},
   "outputs": [],
   "source": [
    "#Remove warnings\n",
    "warnings.filterwarnings('ignore')\n",
    "warnings.filterwarnings(\"ignore\", category=DeprecationWarning)\n",
    "warnings.filterwarnings(\"ignore\",category=UserWarning)\n",
    "sns.set_style(\"whitegrid\")\n",
    "\n",
    "#Inline plottinng\n",
    "%matplotlib inline\n",
    "\n",
    "#Random number generator seeding\n",
    "np.random.seed(7)"
   ]
  },
  {
   "cell_type": "code",
   "execution_count": 135,
   "id": "944df3e4",
   "metadata": {},
   "outputs": [],
   "source": [
    "#Importing data set"
   ]
  },
  {
   "cell_type": "code",
   "execution_count": 136,
   "id": "65c9d801",
   "metadata": {},
   "outputs": [],
   "source": [
    "csv = \"electronics_review_data.csv\"\n",
    "edata = pd.read_csv(csv)"
   ]
  },
  {
   "cell_type": "code",
   "execution_count": 137,
   "id": "2b838c79",
   "metadata": {},
   "outputs": [],
   "source": [
    "#Viewing first two data in the data set"
   ]
  },
  {
   "cell_type": "code",
   "execution_count": 138,
   "id": "6d90bc88",
   "metadata": {},
   "outputs": [
    {
     "data": {
      "text/html": [
       "<div>\n",
       "<style scoped>\n",
       "    .dataframe tbody tr th:only-of-type {\n",
       "        vertical-align: middle;\n",
       "    }\n",
       "\n",
       "    .dataframe tbody tr th {\n",
       "        vertical-align: top;\n",
       "    }\n",
       "\n",
       "    .dataframe thead th {\n",
       "        text-align: right;\n",
       "    }\n",
       "</style>\n",
       "<table border=\"1\" class=\"dataframe\">\n",
       "  <thead>\n",
       "    <tr style=\"text-align: right;\">\n",
       "      <th></th>\n",
       "      <th>id</th>\n",
       "      <th>name</th>\n",
       "      <th>asins</th>\n",
       "      <th>brand</th>\n",
       "      <th>categories</th>\n",
       "      <th>keys</th>\n",
       "      <th>manufacturer</th>\n",
       "      <th>reviews.date</th>\n",
       "      <th>reviews.dateAdded</th>\n",
       "      <th>reviews.dateSeen</th>\n",
       "      <th>...</th>\n",
       "      <th>reviews.doRecommend</th>\n",
       "      <th>reviews.id</th>\n",
       "      <th>reviews.numHelpful</th>\n",
       "      <th>reviews.rating</th>\n",
       "      <th>reviews.sourceURLs</th>\n",
       "      <th>reviews.text</th>\n",
       "      <th>reviews.title</th>\n",
       "      <th>reviews.userCity</th>\n",
       "      <th>reviews.userProvince</th>\n",
       "      <th>reviews.username</th>\n",
       "    </tr>\n",
       "  </thead>\n",
       "  <tbody>\n",
       "    <tr>\n",
       "      <th>0</th>\n",
       "      <td>AVqkIhwDv8e3D1O-lebb</td>\n",
       "      <td>All-New Fire HD 8 Tablet, 8 HD Display, Wi-Fi,...</td>\n",
       "      <td>B01AHB9CN2</td>\n",
       "      <td>Amazon</td>\n",
       "      <td>Electronics,iPad &amp; Tablets,All Tablets,Fire Ta...</td>\n",
       "      <td>841667104676,amazon/53004484,amazon/b01ahb9cn2...</td>\n",
       "      <td>Amazon</td>\n",
       "      <td>2017-01-13T00:00:00.000Z</td>\n",
       "      <td>2017-07-03T23:33:15Z</td>\n",
       "      <td>2017-06-07T09:04:00.000Z,2017-04-30T00:45:00.000Z</td>\n",
       "      <td>...</td>\n",
       "      <td>True</td>\n",
       "      <td>NaN</td>\n",
       "      <td>0.0</td>\n",
       "      <td>5.0</td>\n",
       "      <td>http://reviews.bestbuy.com/3545/5620406/review...</td>\n",
       "      <td>This product so far has not disappointed. My c...</td>\n",
       "      <td>Kindle</td>\n",
       "      <td>NaN</td>\n",
       "      <td>NaN</td>\n",
       "      <td>Adapter</td>\n",
       "    </tr>\n",
       "    <tr>\n",
       "      <th>1</th>\n",
       "      <td>AVqkIhwDv8e3D1O-lebb</td>\n",
       "      <td>All-New Fire HD 8 Tablet, 8 HD Display, Wi-Fi,...</td>\n",
       "      <td>B01AHB9CN2</td>\n",
       "      <td>Amazon</td>\n",
       "      <td>Electronics,iPad &amp; Tablets,All Tablets,Fire Ta...</td>\n",
       "      <td>841667104676,amazon/53004484,amazon/b01ahb9cn2...</td>\n",
       "      <td>Amazon</td>\n",
       "      <td>2017-01-13T00:00:00.000Z</td>\n",
       "      <td>2017-07-03T23:33:15Z</td>\n",
       "      <td>2017-06-07T09:04:00.000Z,2017-04-30T00:45:00.000Z</td>\n",
       "      <td>...</td>\n",
       "      <td>True</td>\n",
       "      <td>NaN</td>\n",
       "      <td>0.0</td>\n",
       "      <td>5.0</td>\n",
       "      <td>http://reviews.bestbuy.com/3545/5620406/review...</td>\n",
       "      <td>great for beginner or experienced person. Boug...</td>\n",
       "      <td>very fast</td>\n",
       "      <td>NaN</td>\n",
       "      <td>NaN</td>\n",
       "      <td>truman</td>\n",
       "    </tr>\n",
       "  </tbody>\n",
       "</table>\n",
       "<p>2 rows × 21 columns</p>\n",
       "</div>"
      ],
      "text/plain": [
       "                     id                                               name  \\\n",
       "0  AVqkIhwDv8e3D1O-lebb  All-New Fire HD 8 Tablet, 8 HD Display, Wi-Fi,...   \n",
       "1  AVqkIhwDv8e3D1O-lebb  All-New Fire HD 8 Tablet, 8 HD Display, Wi-Fi,...   \n",
       "\n",
       "        asins   brand                                         categories  \\\n",
       "0  B01AHB9CN2  Amazon  Electronics,iPad & Tablets,All Tablets,Fire Ta...   \n",
       "1  B01AHB9CN2  Amazon  Electronics,iPad & Tablets,All Tablets,Fire Ta...   \n",
       "\n",
       "                                                keys manufacturer  \\\n",
       "0  841667104676,amazon/53004484,amazon/b01ahb9cn2...       Amazon   \n",
       "1  841667104676,amazon/53004484,amazon/b01ahb9cn2...       Amazon   \n",
       "\n",
       "               reviews.date     reviews.dateAdded  \\\n",
       "0  2017-01-13T00:00:00.000Z  2017-07-03T23:33:15Z   \n",
       "1  2017-01-13T00:00:00.000Z  2017-07-03T23:33:15Z   \n",
       "\n",
       "                                    reviews.dateSeen  ... reviews.doRecommend  \\\n",
       "0  2017-06-07T09:04:00.000Z,2017-04-30T00:45:00.000Z  ...                True   \n",
       "1  2017-06-07T09:04:00.000Z,2017-04-30T00:45:00.000Z  ...                True   \n",
       "\n",
       "  reviews.id  reviews.numHelpful  reviews.rating  \\\n",
       "0        NaN                 0.0             5.0   \n",
       "1        NaN                 0.0             5.0   \n",
       "\n",
       "                                  reviews.sourceURLs  \\\n",
       "0  http://reviews.bestbuy.com/3545/5620406/review...   \n",
       "1  http://reviews.bestbuy.com/3545/5620406/review...   \n",
       "\n",
       "                                        reviews.text reviews.title  \\\n",
       "0  This product so far has not disappointed. My c...        Kindle   \n",
       "1  great for beginner or experienced person. Boug...     very fast   \n",
       "\n",
       "  reviews.userCity  reviews.userProvince  reviews.username  \n",
       "0              NaN                   NaN           Adapter  \n",
       "1              NaN                   NaN            truman  \n",
       "\n",
       "[2 rows x 21 columns]"
      ]
     },
     "execution_count": 138,
     "metadata": {},
     "output_type": "execute_result"
    }
   ],
   "source": [
    "edata.head(2)"
   ]
  },
  {
   "cell_type": "code",
   "execution_count": 139,
   "id": "9f26f4b5",
   "metadata": {},
   "outputs": [],
   "source": [
    "#Copying the dataset, describing, and obtaining information on the data"
   ]
  },
  {
   "cell_type": "code",
   "execution_count": 140,
   "id": "839e185d",
   "metadata": {},
   "outputs": [
    {
     "data": {
      "text/html": [
       "<div>\n",
       "<style scoped>\n",
       "    .dataframe tbody tr th:only-of-type {\n",
       "        vertical-align: middle;\n",
       "    }\n",
       "\n",
       "    .dataframe tbody tr th {\n",
       "        vertical-align: top;\n",
       "    }\n",
       "\n",
       "    .dataframe thead th {\n",
       "        text-align: right;\n",
       "    }\n",
       "</style>\n",
       "<table border=\"1\" class=\"dataframe\">\n",
       "  <thead>\n",
       "    <tr style=\"text-align: right;\">\n",
       "      <th></th>\n",
       "      <th>reviews.id</th>\n",
       "      <th>reviews.numHelpful</th>\n",
       "      <th>reviews.rating</th>\n",
       "      <th>reviews.userCity</th>\n",
       "      <th>reviews.userProvince</th>\n",
       "    </tr>\n",
       "  </thead>\n",
       "  <tbody>\n",
       "    <tr>\n",
       "      <th>count</th>\n",
       "      <td>1.0</td>\n",
       "      <td>34131.000000</td>\n",
       "      <td>34627.000000</td>\n",
       "      <td>0.0</td>\n",
       "      <td>0.0</td>\n",
       "    </tr>\n",
       "    <tr>\n",
       "      <th>mean</th>\n",
       "      <td>111372787.0</td>\n",
       "      <td>0.630248</td>\n",
       "      <td>4.584573</td>\n",
       "      <td>NaN</td>\n",
       "      <td>NaN</td>\n",
       "    </tr>\n",
       "    <tr>\n",
       "      <th>std</th>\n",
       "      <td>NaN</td>\n",
       "      <td>13.215775</td>\n",
       "      <td>0.735653</td>\n",
       "      <td>NaN</td>\n",
       "      <td>NaN</td>\n",
       "    </tr>\n",
       "    <tr>\n",
       "      <th>min</th>\n",
       "      <td>111372787.0</td>\n",
       "      <td>0.000000</td>\n",
       "      <td>1.000000</td>\n",
       "      <td>NaN</td>\n",
       "      <td>NaN</td>\n",
       "    </tr>\n",
       "    <tr>\n",
       "      <th>25%</th>\n",
       "      <td>111372787.0</td>\n",
       "      <td>0.000000</td>\n",
       "      <td>4.000000</td>\n",
       "      <td>NaN</td>\n",
       "      <td>NaN</td>\n",
       "    </tr>\n",
       "    <tr>\n",
       "      <th>50%</th>\n",
       "      <td>111372787.0</td>\n",
       "      <td>0.000000</td>\n",
       "      <td>5.000000</td>\n",
       "      <td>NaN</td>\n",
       "      <td>NaN</td>\n",
       "    </tr>\n",
       "    <tr>\n",
       "      <th>75%</th>\n",
       "      <td>111372787.0</td>\n",
       "      <td>0.000000</td>\n",
       "      <td>5.000000</td>\n",
       "      <td>NaN</td>\n",
       "      <td>NaN</td>\n",
       "    </tr>\n",
       "    <tr>\n",
       "      <th>max</th>\n",
       "      <td>111372787.0</td>\n",
       "      <td>814.000000</td>\n",
       "      <td>5.000000</td>\n",
       "      <td>NaN</td>\n",
       "      <td>NaN</td>\n",
       "    </tr>\n",
       "  </tbody>\n",
       "</table>\n",
       "</div>"
      ],
      "text/plain": [
       "        reviews.id  reviews.numHelpful  reviews.rating  reviews.userCity  \\\n",
       "count          1.0        34131.000000    34627.000000               0.0   \n",
       "mean   111372787.0            0.630248        4.584573               NaN   \n",
       "std            NaN           13.215775        0.735653               NaN   \n",
       "min    111372787.0            0.000000        1.000000               NaN   \n",
       "25%    111372787.0            0.000000        4.000000               NaN   \n",
       "50%    111372787.0            0.000000        5.000000               NaN   \n",
       "75%    111372787.0            0.000000        5.000000               NaN   \n",
       "max    111372787.0          814.000000        5.000000               NaN   \n",
       "\n",
       "       reviews.userProvince  \n",
       "count                   0.0  \n",
       "mean                    NaN  \n",
       "std                     NaN  \n",
       "min                     NaN  \n",
       "25%                     NaN  \n",
       "50%                     NaN  \n",
       "75%                     NaN  \n",
       "max                     NaN  "
      ]
     },
     "execution_count": 140,
     "metadata": {},
     "output_type": "execute_result"
    }
   ],
   "source": [
    "data = edata.copy()\n",
    "data.describe()"
   ]
  },
  {
   "cell_type": "code",
   "execution_count": 141,
   "id": "83d692ad",
   "metadata": {},
   "outputs": [
    {
     "name": "stdout",
     "output_type": "stream",
     "text": [
      "<class 'pandas.core.frame.DataFrame'>\n",
      "RangeIndex: 34660 entries, 0 to 34659\n",
      "Data columns (total 21 columns):\n",
      " #   Column                Non-Null Count  Dtype  \n",
      "---  ------                --------------  -----  \n",
      " 0   id                    34660 non-null  object \n",
      " 1   name                  27900 non-null  object \n",
      " 2   asins                 34658 non-null  object \n",
      " 3   brand                 34660 non-null  object \n",
      " 4   categories            34660 non-null  object \n",
      " 5   keys                  34660 non-null  object \n",
      " 6   manufacturer          34660 non-null  object \n",
      " 7   reviews.date          34621 non-null  object \n",
      " 8   reviews.dateAdded     24039 non-null  object \n",
      " 9   reviews.dateSeen      34660 non-null  object \n",
      " 10  reviews.didPurchase   1 non-null      object \n",
      " 11  reviews.doRecommend   34066 non-null  object \n",
      " 12  reviews.id            1 non-null      float64\n",
      " 13  reviews.numHelpful    34131 non-null  float64\n",
      " 14  reviews.rating        34627 non-null  float64\n",
      " 15  reviews.sourceURLs    34660 non-null  object \n",
      " 16  reviews.text          34659 non-null  object \n",
      " 17  reviews.title         34655 non-null  object \n",
      " 18  reviews.userCity      0 non-null      float64\n",
      " 19  reviews.userProvince  0 non-null      float64\n",
      " 20  reviews.username      34658 non-null  object \n",
      "dtypes: float64(5), object(16)\n",
      "memory usage: 5.6+ MB\n"
     ]
    }
   ],
   "source": [
    "data.info()"
   ]
  },
  {
   "cell_type": "code",
   "execution_count": 142,
   "id": "43008897",
   "metadata": {},
   "outputs": [],
   "source": [
    "#Display the unique ID of products"
   ]
  },
  {
   "cell_type": "code",
   "execution_count": 143,
   "id": "43e0bcde",
   "metadata": {},
   "outputs": [
    {
     "data": {
      "text/plain": [
       "array(['B01AHB9CN2', 'B00VINDBJK', 'B005PB2T0S', 'B002Y27P3M',\n",
       "       'B01AHB9CYG', 'B01AHB9C1E', 'B01J2G4VBG', 'B00ZV9PXP2',\n",
       "       'B0083Q04TA', 'B018Y229OU', 'B00REQKWGA', 'B00IOYAM4I',\n",
       "       'B018T075DC', nan, 'B00DU15MU4', 'B018Y225IA', 'B005PB2T2Q',\n",
       "       'B018Y23MNM', 'B00OQVZDJM', 'B00IOY8XWQ', 'B00LO29KXQ',\n",
       "       'B00QJDU3KY', 'B018Y22C2Y', 'B01BFIBRIE', 'B01J4ORNHU',\n",
       "       'B018SZT3BK', 'B00UH4D8G2', 'B018Y22BI4', 'B00TSUGXKE',\n",
       "       'B00L9EPT8O,B01E6AO69U', 'B018Y23P7K', 'B00X4WHP5E', 'B00QFQRELG',\n",
       "       'B00LW9XOJM', 'B00QL1ZN3G', 'B0189XYY0Q', 'B01BH83OOM',\n",
       "       'B00BFJAHF8', 'B00U3FPN4U', 'B002Y27P6Y', 'B006GWO5NE',\n",
       "       'B006GWO5WK'], dtype=object)"
      ]
     },
     "execution_count": 143,
     "metadata": {},
     "output_type": "execute_result"
    }
   ],
   "source": [
    "data[\"asins\"].unique()"
   ]
  },
  {
   "cell_type": "code",
   "execution_count": 144,
   "id": "14107864",
   "metadata": {},
   "outputs": [],
   "source": [
    "#Filtering, sorting, and structuring the data set"
   ]
  },
  {
   "cell_type": "code",
   "execution_count": 145,
   "id": "11442f53",
   "metadata": {},
   "outputs": [
    {
     "name": "stdout",
     "output_type": "stream",
     "text": [
      "Before 34660\n",
      "After 34627\n"
     ]
    }
   ],
   "source": [
    "print(\"Before {}\".format(len(data)))\n",
    "dataAfter = data.dropna(subset=[\"reviews.rating\"])\n",
    "\n",
    "# Empty values in reviews.rating removal\n",
    "print(\"After {}\".format(len(dataAfter)))\n",
    "dataAfter[\"reviews.rating\"] = dataAfter[\"reviews.rating\"].astype(int)"
   ]
  },
  {
   "cell_type": "code",
   "execution_count": 146,
   "id": "45ecb0b6",
   "metadata": {},
   "outputs": [],
   "source": [
    "#Splitting data into training and testing data set"
   ]
  },
  {
   "cell_type": "code",
   "execution_count": 147,
   "id": "39739d7c",
   "metadata": {},
   "outputs": [],
   "source": [
    "split = StratifiedShuffleSplit(n_splits=5, test_size=0.2)\n",
    "for train_index, test_index in split.split(dataAfter,\n",
    "                                           dataAfter[\"reviews.rating\"]): \n",
    "    train_data = dataAfter.reindex(train_index)\n",
    "    test_data = dataAfter.reindex(test_index)"
   ]
  },
  {
   "cell_type": "code",
   "execution_count": 148,
   "id": "80c7407e",
   "metadata": {},
   "outputs": [
    {
     "data": {
      "text/plain": [
       "27701"
      ]
     },
     "execution_count": 148,
     "metadata": {},
     "output_type": "execute_result"
    }
   ],
   "source": [
    "len(train_data)"
   ]
  },
  {
   "cell_type": "code",
   "execution_count": 149,
   "id": "cc5f55da",
   "metadata": {},
   "outputs": [
    {
     "data": {
      "text/plain": [
       "5.0    0.685174\n",
       "4.0    0.247031\n",
       "3.0    0.043500\n",
       "2.0    0.011696\n",
       "1.0    0.011588\n",
       "Name: reviews.rating, dtype: float64"
      ]
     },
     "execution_count": 149,
     "metadata": {},
     "output_type": "execute_result"
    }
   ],
   "source": [
    "train_data[\"reviews.rating\"].value_counts()/len(train_data)"
   ]
  },
  {
   "cell_type": "code",
   "execution_count": 150,
   "id": "da559528",
   "metadata": {},
   "outputs": [
    {
     "data": {
      "text/plain": [
       "6926"
      ]
     },
     "execution_count": 150,
     "metadata": {},
     "output_type": "execute_result"
    }
   ],
   "source": [
    "len(test_data)"
   ]
  },
  {
   "cell_type": "code",
   "execution_count": 151,
   "id": "57e527f2",
   "metadata": {
    "scrolled": true
   },
   "outputs": [
    {
     "data": {
      "text/plain": [
       "5.0    0.689864\n",
       "4.0    0.244730\n",
       "3.0    0.042160\n",
       "1.0    0.011406\n",
       "2.0    0.011118\n",
       "Name: reviews.rating, dtype: float64"
      ]
     },
     "execution_count": 151,
     "metadata": {},
     "output_type": "execute_result"
    }
   ],
   "source": [
    "test_data[\"reviews.rating\"].value_counts()/len(test_data)"
   ]
  },
  {
   "cell_type": "code",
   "execution_count": 152,
   "id": "4206b6d4",
   "metadata": {},
   "outputs": [],
   "source": [
    "#Data with review only creation"
   ]
  },
  {
   "cell_type": "code",
   "execution_count": 153,
   "id": "9430a58f",
   "metadata": {
    "scrolled": true
   },
   "outputs": [
    {
     "data": {
      "text/html": [
       "<div>\n",
       "<style scoped>\n",
       "    .dataframe tbody tr th:only-of-type {\n",
       "        vertical-align: middle;\n",
       "    }\n",
       "\n",
       "    .dataframe tbody tr th {\n",
       "        vertical-align: top;\n",
       "    }\n",
       "\n",
       "    .dataframe thead th {\n",
       "        text-align: right;\n",
       "    }\n",
       "</style>\n",
       "<table border=\"1\" class=\"dataframe\">\n",
       "  <thead>\n",
       "    <tr style=\"text-align: right;\">\n",
       "      <th></th>\n",
       "      <th>id</th>\n",
       "      <th>name</th>\n",
       "      <th>asins</th>\n",
       "      <th>brand</th>\n",
       "      <th>categories</th>\n",
       "      <th>keys</th>\n",
       "      <th>manufacturer</th>\n",
       "      <th>reviews.date</th>\n",
       "      <th>reviews.dateAdded</th>\n",
       "      <th>reviews.dateSeen</th>\n",
       "      <th>...</th>\n",
       "      <th>reviews.doRecommend</th>\n",
       "      <th>reviews.id</th>\n",
       "      <th>reviews.numHelpful</th>\n",
       "      <th>reviews.rating</th>\n",
       "      <th>reviews.sourceURLs</th>\n",
       "      <th>reviews.text</th>\n",
       "      <th>reviews.title</th>\n",
       "      <th>reviews.userCity</th>\n",
       "      <th>reviews.userProvince</th>\n",
       "      <th>reviews.username</th>\n",
       "    </tr>\n",
       "  </thead>\n",
       "  <tbody>\n",
       "    <tr>\n",
       "      <th>4349</th>\n",
       "      <td>AVphgVaX1cnluZ0-DR74</td>\n",
       "      <td>Fire Tablet, 7 Display, Wi-Fi, 8 GB - Includes...</td>\n",
       "      <td>B018Y229OU</td>\n",
       "      <td>Amazon</td>\n",
       "      <td>Fire Tablets,Tablets,Computers &amp; Tablets,All T...</td>\n",
       "      <td>firetablet7displaywifi8gbincludesspecialoffers...</td>\n",
       "      <td>Amazon</td>\n",
       "      <td>2015-11-28T00:00:00.000Z</td>\n",
       "      <td>2017-05-21T04:06:08Z</td>\n",
       "      <td>2017-04-30T00:26:00.000Z,2017-06-07T08:10:00.000Z</td>\n",
       "      <td>...</td>\n",
       "      <td>True</td>\n",
       "      <td>NaN</td>\n",
       "      <td>5.0</td>\n",
       "      <td>5.0</td>\n",
       "      <td>http://reviews.bestbuy.com/3545/5025800/review...</td>\n",
       "      <td>we bought this for my 11 year old daughter and...</td>\n",
       "      <td>great for all ages</td>\n",
       "      <td>NaN</td>\n",
       "      <td>NaN</td>\n",
       "      <td>Mark</td>\n",
       "    </tr>\n",
       "    <tr>\n",
       "      <th>30776</th>\n",
       "      <td>AV1YE_muvKc47QAVgpwE</td>\n",
       "      <td>NaN</td>\n",
       "      <td>B00U3FPN4U</td>\n",
       "      <td>Amazon Fire Tv</td>\n",
       "      <td>Back To College,College Electronics,College Tv...</td>\n",
       "      <td>848719057492,amazonfiretv/51454342,amazonfiret...</td>\n",
       "      <td>Amazon</td>\n",
       "      <td>2017-01-06T00:00:00.000Z</td>\n",
       "      <td>2017-09-20T05:35:55Z</td>\n",
       "      <td>2017-08-25T22:21:42.763Z,2017-08-19T09:26:46.1...</td>\n",
       "      <td>...</td>\n",
       "      <td>True</td>\n",
       "      <td>NaN</td>\n",
       "      <td>0.0</td>\n",
       "      <td>5.0</td>\n",
       "      <td>http://reviews.bestbuy.com/3545/4370400/review...</td>\n",
       "      <td>I have the Roku 4, and new Apple TV, this stre...</td>\n",
       "      <td>Great streaming box</td>\n",
       "      <td>NaN</td>\n",
       "      <td>NaN</td>\n",
       "      <td>Techno</td>\n",
       "    </tr>\n",
       "  </tbody>\n",
       "</table>\n",
       "<p>2 rows × 21 columns</p>\n",
       "</div>"
      ],
      "text/plain": [
       "                         id  \\\n",
       "4349   AVphgVaX1cnluZ0-DR74   \n",
       "30776  AV1YE_muvKc47QAVgpwE   \n",
       "\n",
       "                                                    name       asins  \\\n",
       "4349   Fire Tablet, 7 Display, Wi-Fi, 8 GB - Includes...  B018Y229OU   \n",
       "30776                                                NaN  B00U3FPN4U   \n",
       "\n",
       "                brand                                         categories  \\\n",
       "4349           Amazon  Fire Tablets,Tablets,Computers & Tablets,All T...   \n",
       "30776  Amazon Fire Tv  Back To College,College Electronics,College Tv...   \n",
       "\n",
       "                                                    keys manufacturer  \\\n",
       "4349   firetablet7displaywifi8gbincludesspecialoffers...       Amazon   \n",
       "30776  848719057492,amazonfiretv/51454342,amazonfiret...       Amazon   \n",
       "\n",
       "                   reviews.date     reviews.dateAdded  \\\n",
       "4349   2015-11-28T00:00:00.000Z  2017-05-21T04:06:08Z   \n",
       "30776  2017-01-06T00:00:00.000Z  2017-09-20T05:35:55Z   \n",
       "\n",
       "                                        reviews.dateSeen  ...  \\\n",
       "4349   2017-04-30T00:26:00.000Z,2017-06-07T08:10:00.000Z  ...   \n",
       "30776  2017-08-25T22:21:42.763Z,2017-08-19T09:26:46.1...  ...   \n",
       "\n",
       "      reviews.doRecommend reviews.id  reviews.numHelpful  reviews.rating  \\\n",
       "4349                 True        NaN                 5.0             5.0   \n",
       "30776                True        NaN                 0.0             5.0   \n",
       "\n",
       "                                      reviews.sourceURLs  \\\n",
       "4349   http://reviews.bestbuy.com/3545/5025800/review...   \n",
       "30776  http://reviews.bestbuy.com/3545/4370400/review...   \n",
       "\n",
       "                                            reviews.text        reviews.title  \\\n",
       "4349   we bought this for my 11 year old daughter and...   great for all ages   \n",
       "30776  I have the Roku 4, and new Apple TV, this stre...  Great streaming box   \n",
       "\n",
       "      reviews.userCity  reviews.userProvince  reviews.username  \n",
       "4349               NaN                   NaN              Mark  \n",
       "30776              NaN                   NaN            Techno  \n",
       "\n",
       "[2 rows x 21 columns]"
      ]
     },
     "execution_count": 153,
     "metadata": {},
     "output_type": "execute_result"
    }
   ],
   "source": [
    "reviews = train_data.copy()\n",
    "reviews.head(2)"
   ]
  },
  {
   "cell_type": "code",
   "execution_count": 154,
   "id": "d0e39444",
   "metadata": {},
   "outputs": [],
   "source": [
    "#Review analysis"
   ]
  },
  {
   "cell_type": "code",
   "execution_count": 155,
   "id": "99171ad8",
   "metadata": {
    "scrolled": true
   },
   "outputs": [
    {
     "data": {
      "text/html": [
       "<div>\n",
       "<style scoped>\n",
       "    .dataframe tbody tr th:only-of-type {\n",
       "        vertical-align: middle;\n",
       "    }\n",
       "\n",
       "    .dataframe tbody tr th {\n",
       "        vertical-align: top;\n",
       "    }\n",
       "\n",
       "    .dataframe thead th {\n",
       "        text-align: right;\n",
       "    }\n",
       "</style>\n",
       "<table border=\"1\" class=\"dataframe\">\n",
       "  <thead>\n",
       "    <tr style=\"text-align: right;\">\n",
       "      <th></th>\n",
       "      <th>reviews.id</th>\n",
       "      <th>reviews.numHelpful</th>\n",
       "      <th>reviews.rating</th>\n",
       "      <th>reviews.userCity</th>\n",
       "      <th>reviews.userProvince</th>\n",
       "    </tr>\n",
       "  </thead>\n",
       "  <tbody>\n",
       "    <tr>\n",
       "      <th>reviews.id</th>\n",
       "      <td>NaN</td>\n",
       "      <td>NaN</td>\n",
       "      <td>NaN</td>\n",
       "      <td>NaN</td>\n",
       "      <td>NaN</td>\n",
       "    </tr>\n",
       "    <tr>\n",
       "      <th>reviews.numHelpful</th>\n",
       "      <td>NaN</td>\n",
       "      <td>1.00000</td>\n",
       "      <td>-0.04372</td>\n",
       "      <td>NaN</td>\n",
       "      <td>NaN</td>\n",
       "    </tr>\n",
       "    <tr>\n",
       "      <th>reviews.rating</th>\n",
       "      <td>NaN</td>\n",
       "      <td>-0.04372</td>\n",
       "      <td>1.00000</td>\n",
       "      <td>NaN</td>\n",
       "      <td>NaN</td>\n",
       "    </tr>\n",
       "    <tr>\n",
       "      <th>reviews.userCity</th>\n",
       "      <td>NaN</td>\n",
       "      <td>NaN</td>\n",
       "      <td>NaN</td>\n",
       "      <td>NaN</td>\n",
       "      <td>NaN</td>\n",
       "    </tr>\n",
       "    <tr>\n",
       "      <th>reviews.userProvince</th>\n",
       "      <td>NaN</td>\n",
       "      <td>NaN</td>\n",
       "      <td>NaN</td>\n",
       "      <td>NaN</td>\n",
       "      <td>NaN</td>\n",
       "    </tr>\n",
       "  </tbody>\n",
       "</table>\n",
       "</div>"
      ],
      "text/plain": [
       "                      reviews.id  reviews.numHelpful  reviews.rating  \\\n",
       "reviews.id                   NaN                 NaN             NaN   \n",
       "reviews.numHelpful           NaN             1.00000        -0.04372   \n",
       "reviews.rating               NaN            -0.04372         1.00000   \n",
       "reviews.userCity             NaN                 NaN             NaN   \n",
       "reviews.userProvince         NaN                 NaN             NaN   \n",
       "\n",
       "                      reviews.userCity  reviews.userProvince  \n",
       "reviews.id                         NaN                   NaN  \n",
       "reviews.numHelpful                 NaN                   NaN  \n",
       "reviews.rating                     NaN                   NaN  \n",
       "reviews.userCity                   NaN                   NaN  \n",
       "reviews.userProvince               NaN                   NaN  "
      ]
     },
     "execution_count": 155,
     "metadata": {},
     "output_type": "execute_result"
    }
   ],
   "source": [
    "analysis_matrix = reviews.corr()\n",
    "analysis_matrix\n"
   ]
  },
  {
   "cell_type": "code",
   "execution_count": 156,
   "id": "57cc28ce",
   "metadata": {},
   "outputs": [],
   "source": [
    "#Defining the sentiments as per rating and adding them to the data"
   ]
  },
  {
   "cell_type": "code",
   "execution_count": 157,
   "id": "4ec84fa2",
   "metadata": {},
   "outputs": [
    {
     "data": {
      "text/plain": [
       "4349     Positive\n",
       "30776    Positive\n",
       "28775     Neutral\n",
       "1136     Positive\n",
       "17803    Positive\n",
       "7336     Positive\n",
       "32638    Positive\n",
       "13995    Positive\n",
       "6728     Negative\n",
       "22009    Positive\n",
       "11047    Positive\n",
       "22754    Positive\n",
       "5578     Positive\n",
       "11673    Positive\n",
       "19168    Positive\n",
       "14903    Positive\n",
       "30843    Positive\n",
       "5440     Positive\n",
       "28940    Positive\n",
       "31258    Positive\n",
       "Name: Sentiment, dtype: object"
      ]
     },
     "execution_count": 157,
     "metadata": {},
     "output_type": "execute_result"
    }
   ],
   "source": [
    "def sentiments(rating):\n",
    "    if (rating == 5) or (rating == 4):\n",
    "        return \"Positive\"\n",
    "    elif rating == 3:\n",
    "        return \"Neutral\"\n",
    "    elif (rating == 2) or (rating == 1):\n",
    "        return \"Negative\"\n",
    "\n",
    "train_data[\"Sentiment\"] = train_data[\"reviews.rating\"].apply(sentiments)\n",
    "test_data[\"Sentiment\"] = test_data[\"reviews.rating\"].apply(sentiments)\n",
    "train_data[\"Sentiment\"][:20]"
   ]
  },
  {
   "cell_type": "code",
   "execution_count": 158,
   "id": "6d655393",
   "metadata": {},
   "outputs": [],
   "source": [
    "# Collecting and creating set with reviews and sentiments"
   ]
  },
  {
   "cell_type": "code",
   "execution_count": 159,
   "id": "5fb0318c",
   "metadata": {},
   "outputs": [
    {
     "name": "stdout",
     "output_type": "stream",
     "text": [
      "27701 6926\n"
     ]
    }
   ],
   "source": [
    "X_train = train_data[\"reviews.text\"]\n",
    "X_train_targetSentiment = train_data[\"Sentiment\"]\n",
    "X_test = test_data[\"reviews.text\"]\n",
    "X_test_targetSentiment = test_data[\"Sentiment\"]\n",
    "print(len(X_train), len(X_test))"
   ]
  },
  {
   "cell_type": "code",
   "execution_count": 160,
   "id": "408522e2",
   "metadata": {},
   "outputs": [],
   "source": [
    "# Text replacement of 'nan' with ' '"
   ]
  },
  {
   "cell_type": "code",
   "execution_count": 161,
   "id": "bea009c2",
   "metadata": {},
   "outputs": [],
   "source": [
    "X_train = X_train.fillna(' ')\n",
    "X_test = X_test.fillna(' ')\n",
    "X_train_targetSentiment = X_train_targetSentiment.fillna(' ')\n",
    "X_test_targetSentiment = X_test_targetSentiment.fillna(' ')"
   ]
  },
  {
   "cell_type": "code",
   "execution_count": 162,
   "id": "c09bb795",
   "metadata": {},
   "outputs": [],
   "source": [
    "#Pre processing the text and checking occurance"
   ]
  },
  {
   "cell_type": "code",
   "execution_count": 163,
   "id": "dfa14f5a",
   "metadata": {},
   "outputs": [
    {
     "data": {
      "text/plain": [
       "(27701, 12526)"
      ]
     },
     "execution_count": 163,
     "metadata": {},
     "output_type": "execute_result"
    }
   ],
   "source": [
    "count_vect = CountVectorizer()\n",
    "X_train_counts = count_vect.fit_transform(X_train) \n",
    "X_train_counts.shape"
   ]
  },
  {
   "cell_type": "code",
   "execution_count": 164,
   "id": "3d9ccfc1",
   "metadata": {},
   "outputs": [],
   "source": [
    "#Feature extraction and tfidf transformer"
   ]
  },
  {
   "cell_type": "code",
   "execution_count": 165,
   "id": "541daada",
   "metadata": {},
   "outputs": [
    {
     "data": {
      "text/plain": [
       "(27701, 12526)"
      ]
     },
     "execution_count": 165,
     "metadata": {},
     "output_type": "execute_result"
    }
   ],
   "source": [
    "tfidf_transformer = TfidfTransformer(use_idf=False)\n",
    "X_train_tfidf = tfidf_transformer.fit_transform(X_train_counts)\n",
    "X_train_tfidf.shape"
   ]
  },
  {
   "cell_type": "code",
   "execution_count": 166,
   "id": "e31b87dd",
   "metadata": {},
   "outputs": [],
   "source": [
    "#Implementation of pipeline "
   ]
  },
  {
   "cell_type": "code",
   "execution_count": 167,
   "id": "b3c1c454",
   "metadata": {},
   "outputs": [],
   "source": [
    "#MULTINOMIAL NAIVE BAYES CLASSIFIER Implementation and Training"
   ]
  },
  {
   "cell_type": "code",
   "execution_count": 168,
   "id": "92fe4d22",
   "metadata": {
    "scrolled": true
   },
   "outputs": [
    {
     "data": {
      "text/plain": [
       "Pipeline(steps=[('vect', CountVectorizer()), ('tfidf', TfidfTransformer()),\n",
       "                ('clf_nominalNB', MultinomialNB())])"
      ]
     },
     "execution_count": 168,
     "metadata": {},
     "output_type": "execute_result"
    }
   ],
   "source": [
    "clf_multiNB_pipe = Pipeline([(\"vect\", CountVectorizer()), \n",
    "                             (\"tfidf\", TfidfTransformer()),\n",
    "                             (\"clf_nominalNB\", MultinomialNB())])\n",
    "clf_multiNB_pipe.fit(X_train, X_train_targetSentiment)"
   ]
  },
  {
   "cell_type": "code",
   "execution_count": 169,
   "id": "c72ad60e",
   "metadata": {},
   "outputs": [],
   "source": [
    "#Prediction and Accuracy testing on Test Set of MNB"
   ]
  },
  {
   "cell_type": "code",
   "execution_count": 170,
   "id": "ddce8685",
   "metadata": {},
   "outputs": [
    {
     "data": {
      "text/plain": [
       "0.9344498989315623"
      ]
     },
     "execution_count": 170,
     "metadata": {},
     "output_type": "execute_result"
    }
   ],
   "source": [
    "predictedMultiNB = clf_multiNB_pipe.predict(X_test)\n",
    "np.mean(predictedMultiNB == X_test_targetSentiment)"
   ]
  },
  {
   "cell_type": "code",
   "execution_count": 171,
   "id": "36e94465",
   "metadata": {},
   "outputs": [],
   "source": [
    "# SUPPORT VECTOR MACHINE CLASSIFIER Implementation and Training"
   ]
  },
  {
   "cell_type": "code",
   "execution_count": 172,
   "id": "a119e3d1",
   "metadata": {},
   "outputs": [
    {
     "data": {
      "text/plain": [
       "Pipeline(steps=[('vect', CountVectorizer()), ('tfidf', TfidfTransformer()),\n",
       "                ('clf_linearSVC', LinearSVC())])"
      ]
     },
     "execution_count": 172,
     "metadata": {},
     "output_type": "execute_result"
    }
   ],
   "source": [
    "clf_linearSVC_pipe = Pipeline([(\"vect\", CountVectorizer()), \n",
    "                               (\"tfidf\", TfidfTransformer()),\n",
    "                               (\"clf_linearSVC\", LinearSVC())])\n",
    "clf_linearSVC_pipe.fit(X_train, X_train_targetSentiment)"
   ]
  },
  {
   "cell_type": "code",
   "execution_count": 173,
   "id": "fe91a01f",
   "metadata": {},
   "outputs": [],
   "source": [
    "#Prediction and Accuracy detection of SVC"
   ]
  },
  {
   "cell_type": "code",
   "execution_count": 174,
   "id": "a9b11667",
   "metadata": {},
   "outputs": [
    {
     "data": {
      "text/plain": [
       "0.9393589373375686"
      ]
     },
     "execution_count": 174,
     "metadata": {},
     "output_type": "execute_result"
    }
   ],
   "source": [
    "predictedLinearSVC = clf_linearSVC_pipe.predict(X_test)\n",
    "np.mean(predictedLinearSVC == X_test_targetSentiment)"
   ]
  },
  {
   "cell_type": "code",
   "execution_count": 175,
   "id": "19092119",
   "metadata": {},
   "outputs": [],
   "source": [
    "#LOGISTIC REGRESSION CLASSIFIER Implementation and Training"
   ]
  },
  {
   "cell_type": "code",
   "execution_count": 176,
   "id": "564413dc",
   "metadata": {},
   "outputs": [
    {
     "data": {
      "text/plain": [
       "Pipeline(steps=[('vect', CountVectorizer()), ('tfidf', TfidfTransformer()),\n",
       "                ('clf_logReg', LogisticRegression())])"
      ]
     },
     "execution_count": 176,
     "metadata": {},
     "output_type": "execute_result"
    }
   ],
   "source": [
    "clf_logReg_pipe = Pipeline([(\"vect\", CountVectorizer()), \n",
    "                            (\"tfidf\", TfidfTransformer()), \n",
    "                            (\"clf_logReg\", LogisticRegression())])\n",
    "clf_logReg_pipe.fit(X_train, X_train_targetSentiment)"
   ]
  },
  {
   "cell_type": "code",
   "execution_count": 177,
   "id": "6061477a",
   "metadata": {},
   "outputs": [],
   "source": [
    "#Prediction and Accuracy detection of LogReg"
   ]
  },
  {
   "cell_type": "code",
   "execution_count": 178,
   "id": "80f6cdfa",
   "metadata": {},
   "outputs": [
    {
     "data": {
      "text/plain": [
       "0.9392145538550389"
      ]
     },
     "execution_count": 178,
     "metadata": {},
     "output_type": "execute_result"
    }
   ],
   "source": [
    "predictedLogReg = clf_logReg_pipe.predict(X_test)\n",
    "np.mean(predictedLogReg == X_test_targetSentiment)"
   ]
  },
  {
   "cell_type": "code",
   "execution_count": 179,
   "id": "5f74496c",
   "metadata": {},
   "outputs": [],
   "source": [
    "#OPTIMAL VALUE FOR TUNING SUPPORT VECTOR MACHINE"
   ]
  },
  {
   "cell_type": "code",
   "execution_count": 180,
   "id": "5f07a4ca",
   "metadata": {},
   "outputs": [],
   "source": [
    "parameters = {'vect__ngram_range': [(1, 1), (1, 2)],    \n",
    "             'tfidf__use_idf': (True, False), \n",
    "             } \n",
    "gs_clf_LinearSVC_pipe = GridSearchCV(clf_linearSVC_pipe, parameters, n_jobs=-1)\n",
    "gs_clf_LinearSVC_pipe = gs_clf_LinearSVC_pipe.fit(X_train, \n",
    "                                                  X_train_targetSentiment)\n"
   ]
  },
  {
   "cell_type": "code",
   "execution_count": 181,
   "id": "21a8467b",
   "metadata": {},
   "outputs": [],
   "source": [
    "#Testing and Accuracy detection of SVM post Tuning"
   ]
  },
  {
   "cell_type": "code",
   "execution_count": 182,
   "id": "79fcb7e3",
   "metadata": {},
   "outputs": [
    {
     "data": {
      "text/plain": [
       "0.9408027721628646"
      ]
     },
     "execution_count": 182,
     "metadata": {},
     "output_type": "execute_result"
    }
   ],
   "source": [
    "predictedGS_clf_LinearSVC_pipe = gs_clf_LinearSVC_pipe.predict(X_test)\n",
    "np.mean(predictedGS_clf_LinearSVC_pipe == X_test_targetSentiment)"
   ]
  },
  {
   "cell_type": "code",
   "execution_count": 183,
   "id": "7cba2825",
   "metadata": {},
   "outputs": [],
   "source": [
    "#PEROFORMANCE ANALYSIS OF VECTOR MACHINE"
   ]
  },
  {
   "cell_type": "code",
   "execution_count": 184,
   "id": "eead7f04",
   "metadata": {
    "scrolled": true
   },
   "outputs": [
    {
     "name": "stdout",
     "output_type": "stream",
     "text": [
      "0.9366809937342697\n",
      "Pipeline(steps=[('vect', CountVectorizer(ngram_range=(1, 2))),\n",
      "                ('tfidf', TfidfTransformer()), ('clf_linearSVC', LinearSVC())])\n",
      "{'tfidf__use_idf': True, 'vect__ngram_range': (1, 2)}\n"
     ]
    }
   ],
   "source": [
    "for performance_analysis in (gs_clf_LinearSVC_pipe.best_score_, \n",
    "                             gs_clf_LinearSVC_pipe.best_estimator_, \n",
    "                             gs_clf_LinearSVC_pipe.best_params_):\n",
    "        print(performance_analysis)"
   ]
  },
  {
   "cell_type": "code",
   "execution_count": 185,
   "id": "3682d357",
   "metadata": {},
   "outputs": [],
   "source": [
    "#CLASSIFICATION REPORT SVC"
   ]
  },
  {
   "cell_type": "code",
   "execution_count": 186,
   "id": "83240f6b",
   "metadata": {},
   "outputs": [
    {
     "name": "stdout",
     "output_type": "stream",
     "text": [
      "              precision    recall  f1-score   support\n",
      "\n",
      "                   0.00      0.00      0.00         5\n",
      "    Negative       0.67      0.25      0.36       156\n",
      "     Neutral       0.47      0.11      0.18       292\n",
      "    Positive       0.95      1.00      0.97      6473\n",
      "\n",
      "    accuracy                           0.94      6926\n",
      "   macro avg       0.52      0.34      0.38      6926\n",
      "weighted avg       0.92      0.94      0.92      6926\n",
      "\n",
      "Accuracy: 0.9408027721628646\n"
     ]
    }
   ],
   "source": [
    "print(classification_report(X_test_targetSentiment, \n",
    "                            predictedGS_clf_LinearSVC_pipe))\n",
    "print('Accuracy: {}'. format(accuracy_score(X_test_targetSentiment, \n",
    "                             predictedGS_clf_LinearSVC_pipe)))"
   ]
  },
  {
   "cell_type": "code",
   "execution_count": 187,
   "id": "e248d5cf",
   "metadata": {},
   "outputs": [],
   "source": [
    "#CLASSIFICATION REPORT LogReg"
   ]
  },
  {
   "cell_type": "code",
   "execution_count": 188,
   "id": "7b378422",
   "metadata": {},
   "outputs": [
    {
     "name": "stdout",
     "output_type": "stream",
     "text": [
      "              precision    recall  f1-score   support\n",
      "\n",
      "                   0.00      0.00      0.00         5\n",
      "    Negative       0.76      0.20      0.31       156\n",
      "     Neutral       0.45      0.08      0.13       292\n",
      "    Positive       0.94      1.00      0.97      6473\n",
      "\n",
      "    accuracy                           0.94      6926\n",
      "   macro avg       0.54      0.32      0.35      6926\n",
      "weighted avg       0.92      0.94      0.92      6926\n",
      "\n",
      "Accuracy: 0.9392145538550389\n"
     ]
    }
   ],
   "source": [
    "print(classification_report(X_test_targetSentiment, \n",
    "                            predictedLogReg))\n",
    "print('Accuracy: {}'. format(accuracy_score(X_test_targetSentiment, \n",
    "                             predictedLogReg)))"
   ]
  },
  {
   "cell_type": "code",
   "execution_count": 189,
   "id": "34262341",
   "metadata": {},
   "outputs": [],
   "source": [
    "#CLASSIFICATION REPORT MNB"
   ]
  },
  {
   "cell_type": "code",
   "execution_count": 190,
   "id": "b7cbec27",
   "metadata": {},
   "outputs": [
    {
     "name": "stdout",
     "output_type": "stream",
     "text": [
      "              precision    recall  f1-score   support\n",
      "\n",
      "                   0.00      0.00      0.00         5\n",
      "    Negative       0.00      0.00      0.00       156\n",
      "     Neutral       0.00      0.00      0.00       292\n",
      "    Positive       0.93      1.00      0.97      6473\n",
      "\n",
      "    accuracy                           0.93      6926\n",
      "   macro avg       0.23      0.25      0.24      6926\n",
      "weighted avg       0.87      0.93      0.90      6926\n",
      "\n",
      "Accuracy: 0.9344498989315623\n"
     ]
    }
   ],
   "source": [
    "print(classification_report(X_test_targetSentiment, \n",
    "                            predictedMultiNB))\n",
    "print('Accuracy: {}'. format(accuracy_score(X_test_targetSentiment, \n",
    "                             predictedMultiNB)))"
   ]
  },
  {
   "cell_type": "code",
   "execution_count": 191,
   "id": "423066e0",
   "metadata": {},
   "outputs": [],
   "source": [
    "#Confusion Matrix of MultiNB"
   ]
  },
  {
   "cell_type": "code",
   "execution_count": 192,
   "id": "46e15b21",
   "metadata": {},
   "outputs": [
    {
     "name": "stdout",
     "output_type": "stream",
     "text": [
      "[[   0    0    0    5]\n",
      " [   0    0    0  156]\n",
      " [   0    0    0  292]\n",
      " [   0    0    1 6472]]\n"
     ]
    }
   ],
   "source": [
    "cm = metrics.confusion_matrix(X_test_targetSentiment, predictedMultiNB)\n",
    "print(cm)"
   ]
  },
  {
   "cell_type": "code",
   "execution_count": 193,
   "id": "9d9f7ee5",
   "metadata": {},
   "outputs": [],
   "source": [
    "#Confusion Matrix Tabulated Graphical Representation of MultiNB"
   ]
  },
  {
   "cell_type": "code",
   "execution_count": 194,
   "id": "16dd3723",
   "metadata": {},
   "outputs": [
    {
     "data": {
      "image/png": "[encoded data removed]",
      "text/plain": [
       "<Figure size 432x288 with 2 Axes>"
      ]
     },
     "metadata": {
      "needs_background": "light"
     },
     "output_type": "display_data"
    }
   ],
   "source": [
    "group_names = ['IGNORE','IGNORE','IGNORE','IGNORE','IGNORE','True Negative','False Neutral','False Positive','IGNORE','False Negative','True Neutral','False Positive','IGNORE','False Negative','False Neutral','True Positive']\n",
    "\n",
    "group_counts = [\"{0:0.0f}\".format(value) for value in\n",
    "                cm.flatten()]\n",
    "\n",
    "group_percentages = [\"{0:.2%}\".format(value) for value in\n",
    "                     cm.flatten()/np.sum(cm)]\n",
    "\n",
    "labels = [f\"{v1}\\n{v2}\\n{v3}\" for v1, v2, v3 in\n",
    "          zip(group_names,group_counts,group_percentages)]\n",
    "\n",
    "labels = np.asarray(labels).reshape(4,4)\n",
    "\n",
    "ax = sns.heatmap(cm, annot=labels, fmt='', cmap='Blues')\n",
    "\n",
    "ax.set_title('Seaborn Confusion Matrix with labels\\n\\n');\n",
    "ax.set_xlabel('\\nPredicted Values')\n",
    "ax.set_ylabel('Actual Values ');\n",
    "\n",
    "\n",
    "ax.xaxis.set_ticklabels(['IGNORE','Negative','Nuetral','Positive'])\n",
    "ax.yaxis.set_ticklabels(['IGNORE','Negative','Nuetral','Positive'])\n",
    "\n",
    "plt.show()"
   ]
  },
  {
   "cell_type": "code",
   "execution_count": 195,
   "id": "7ffff949",
   "metadata": {},
   "outputs": [],
   "source": [
    "#Confusion Matrix of SVC"
   ]
  },
  {
   "cell_type": "code",
   "execution_count": 196,
   "id": "6eb87901",
   "metadata": {},
   "outputs": [
    {
     "name": "stdout",
     "output_type": "stream",
     "text": [
      "[[   0    0    0    5]\n",
      " [   0   39   13  104]\n",
      " [   0   14   32  246]\n",
      " [   0    5   23 6445]]\n"
     ]
    }
   ],
   "source": [
    "cmSVC = metrics.confusion_matrix(X_test_targetSentiment, predictedGS_clf_LinearSVC_pipe)\n",
    "print(cmSVC)"
   ]
  },
  {
   "cell_type": "code",
   "execution_count": 197,
   "id": "7c7cb2c4",
   "metadata": {},
   "outputs": [],
   "source": [
    "#Confusion Matrix Tabulated Graphical Representation of SVC"
   ]
  },
  {
   "cell_type": "code",
   "execution_count": 198,
   "id": "fce4e138",
   "metadata": {},
   "outputs": [
    {
     "data": {
      "image/png": "[encoded data removed]",
      "text/plain": [
       "<Figure size 432x288 with 2 Axes>"
      ]
     },
     "metadata": {
      "needs_background": "light"
     },
     "output_type": "display_data"
    }
   ],
   "source": [
    "group_names = ['IGNORE','IGNORE','IGNORE','IGNORE','IGNORE','True Negative','False Neutral','False Positive','IGNORE','False Negative','True Neutral','False Positive','IGNORE','False Negative','False Neutral','True Positive']\n",
    "\n",
    "group_counts = [\"{0:0.0f}\".format(value) for value in\n",
    "                cmSVC.flatten()]\n",
    "\n",
    "group_percentages = [\"{0:.2%}\".format(value) for value in\n",
    "                     cmSVC.flatten()/np.sum(cmSVC)]\n",
    "\n",
    "labels = [f\"{v1}\\n{v2}\\n{v3}\" for v1, v2, v3 in\n",
    "          zip(group_names,group_counts,group_percentages)]\n",
    "\n",
    "labels = np.asarray(labels).reshape(4,4)\n",
    "\n",
    "ax = sns.heatmap(cm, annot=labels, fmt='', cmap='Blues')\n",
    "\n",
    "ax.set_title('Seaborn Confusion Matrix with labels\\n\\n');\n",
    "ax.set_xlabel('\\nPredicted Values')\n",
    "ax.set_ylabel('Actual Values ');\n",
    "\n",
    "\n",
    "ax.xaxis.set_ticklabels(['IGNORE','Negative','Nuetral','Positive'])\n",
    "ax.yaxis.set_ticklabels(['IGNORE','Negative','Nuetral','Positive'])\n",
    "\n",
    "plt.show()"
   ]
  },
  {
   "cell_type": "code",
   "execution_count": 199,
   "id": "e071402a",
   "metadata": {},
   "outputs": [],
   "source": [
    "#Confusion Matrix of LogReg"
   ]
  },
  {
   "cell_type": "code",
   "execution_count": 200,
   "id": "f1fe2ccf",
   "metadata": {},
   "outputs": [
    {
     "name": "stdout",
     "output_type": "stream",
     "text": [
      "[[   0    0    0    5]\n",
      " [   0   31   10  115]\n",
      " [   0    6   23  263]\n",
      " [   0    4   18 6451]]\n"
     ]
    }
   ],
   "source": [
    "cmLR = metrics.confusion_matrix(X_test_targetSentiment, predictedLogReg)\n",
    "print(cmLR)"
   ]
  },
  {
   "cell_type": "code",
   "execution_count": 201,
   "id": "d0496cfd",
   "metadata": {},
   "outputs": [],
   "source": [
    "#Confusion Matrix Tabulated Graphical Representation of LogReg"
   ]
  },
  {
   "cell_type": "code",
   "execution_count": 202,
   "id": "f3704a1c",
   "metadata": {},
   "outputs": [
    {
     "data": {
      "image/png": "[encoded data removed]",
      "text/plain": [
       "<Figure size 432x288 with 2 Axes>"
      ]
     },
     "metadata": {
      "needs_background": "light"
     },
     "output_type": "display_data"
    }
   ],
   "source": [
    "group_names = ['IGNORE','IGNORE','IGNORE','IGNORE','IGNORE','True Negative','False Neutral','False Positive','IGNORE','False Negative','True Neutral','False Positive','IGNORE','False Negative','False Neutral','True Positive']\n",
    "\n",
    "group_counts = [\"{0:0.0f}\".format(value) for value in\n",
    "                cmLR.flatten()]\n",
    "\n",
    "group_percentages = [\"{0:.2%}\".format(value) for value in\n",
    "                     cmLR.flatten()/np.sum(cmLR)]\n",
    "\n",
    "labels = [f\"{v1}\\n{v2}\\n{v3}\" for v1, v2, v3 in\n",
    "          zip(group_names,group_counts,group_percentages)]\n",
    "\n",
    "labels = np.asarray(labels).reshape(4,4)\n",
    "\n",
    "ax = sns.heatmap(cmLR, annot=labels, fmt='', cmap='Blues')\n",
    "\n",
    "ax.set_title('Seaborn Confusion Matrix with labels\\n\\n');\n",
    "ax.set_xlabel('\\nPredicted Values')\n",
    "ax.set_ylabel('Actual Values ');\n",
    "\n",
    "\n",
    "ax.xaxis.set_ticklabels(['IGNORE','Negative','Nuetral','Positive'])\n",
    "ax.yaxis.set_ticklabels(['IGNORE','Negative','Nuetral','Positive'])\n",
    "\n",
    "plt.show()"
   ]
  },
  {
   "cell_type": "code",
   "execution_count": 205,
   "id": "a4b8a3fd",
   "metadata": {},
   "outputs": [
    {
     "name": "stdout",
     "output_type": "stream",
     "text": [
      "Accuracy wise the Support Vector Machine (SVM) Classifier would be the most optimal classifier for Amazon Product Review Sentiment Analysis.\n"
     ]
    }
   ],
   "source": [
    "inference = \"Accuracy wise the Support Vector Machine (SVM) Classifier would be the most optimal classifier for Amazon Product Review Sentiment Analysis.\"\n",
    "print(inference)"
   ]
  }
 ],
 "metadata": {
  "kernelspec": {
   "display_name": "Python 3 (ipykernel)",
   "language": "python",
   "name": "python3"
  },
  "language_info": {
   "codemirror_mode": {
    "name": "ipython",
    "version": 3
   },
   "file_extension": ".py",
   "mimetype": "text/x-python",
   "name": "python",
   "nbconvert_exporter": "python",
   "pygments_lexer": "ipython3",
   "version": "3.10.4"
  }
 },
 "nbformat": 4,
 "nbformat_minor": 5
}
